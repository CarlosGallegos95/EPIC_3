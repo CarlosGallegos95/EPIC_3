{
 "cells": [
  {
   "cell_type": "markdown",
   "id": "f3b4839c",
   "metadata": {},
   "source": [
    "# 3. Application: Radioactive decay\n",
    "\n",
    "- Spontaneous decay is a natural process in which a particle, with no external stimulation, decays into other particles.\n",
    "\n",
    "- Even though the probability of decay of any one particle in any time interval is constant, when it decays is a random event.\n",
    "\n",
    "Because the exact moment when any one particle decays is random, it does not matter how long the particle has been around or whether some other particles have decayed. \n",
    "\n",
    "- The probability $P$ of any one particle decaying per unit time interval is a constant, and when that particle decays, it is gone forever.\n",
    "\n",
    "- Of course, as the total number of particles decreases with time, so will the number of decays, but the probability of any one particle decaying in some time interval is always the same constant as long as that particle exists.\n",
    "\n",
    "- The exponential decay law is a large-number approximation to a natural process that always ends with small numbers, so our MCMC simulation should be closer to nature than is the exponential decay law.\n",
    "\n",
    "#### Reference: Landau, Computational Physics."
   ]
  },
  {
   "cell_type": "code",
   "execution_count": 1,
   "id": "270d28cf",
   "metadata": {},
   "outputs": [],
   "source": [
    "import numpy as np\n",
    "import matplotlib.pyplot as plt\n",
    "import random"
   ]
  },
  {
   "cell_type": "code",
   "execution_count": 2,
   "id": "ace38c3b",
   "metadata": {},
   "outputs": [],
   "source": [
    "lambda1 = 0.01                                   # Decay constant\n",
    "n_max = 100000\n",
    "time_max = 1000\n",
    "seed = 68111\n",
    "\n",
    "number = nloop = n_max                             # Initial value\n",
    "\n",
    "y = np.zeros(time_max)\n",
    "t = np.zeros(time_max)\n"
   ]
  },
  {
   "cell_type": "code",
   "execution_count": 3,
   "id": "28742935",
   "metadata": {},
   "outputs": [],
   "source": [
    "for time in range(0, time_max):                 # Time loop\n",
    "    \n",
    "    for atom in range(1, number):              # Decay loop\n",
    "        decay = random.random()   \n",
    "        if (decay  <  lambda1):\n",
    "            nloop = nloop  -  1                  # A decay\n",
    "            #frequency = 600 # Hertz\n",
    "            #duration  = 100 # milliseconds\n",
    "            #os.system('play -n synth %s sin %s' % (duration/1000, frequency))\n",
    "            \n",
    "    number  = nloop\n",
    "    y[time] = nloop\n",
    "    t[time] = time"
   ]
  },
  {
   "cell_type": "code",
   "execution_count": 4,
   "id": "c6ae5ce2",
   "metadata": {},
   "outputs": [
    {
     "name": "stdout",
     "output_type": "stream",
     "text": [
      "100000\n"
     ]
    }
   ],
   "source": [
    "print(n_max)"
   ]
  },
  {
   "cell_type": "code",
   "execution_count": 5,
   "id": "82d945c0",
   "metadata": {},
   "outputs": [
    {
     "data": {
      "image/png": "[encoded data removed]",
      "text/plain": [
       "<Figure size 640x480 with 1 Axes>"
      ]
     },
     "metadata": {},
     "output_type": "display_data"
    }
   ],
   "source": [
    "plt.plot(t, np.log(y))    \n",
    "#plt.title(\"Spontaneous Decay\")\n",
    "\n",
    "plt.plot(t, np.log(n_max*np.exp(-lambda1*t)))\n",
    "plt.xlabel(\"Time\")\n",
    "plt.ylabel(\"N\")\n",
    "\n",
    "plt.ylim(-1, 12)\n",
    "plt.show()"
   ]
  },
  {
   "cell_type": "code",
   "execution_count": null,
   "id": "1d2e7f07",
   "metadata": {},
   "outputs": [],
   "source": []
  },
  {
   "cell_type": "code",
   "execution_count": null,
   "id": "a6538f31",
   "metadata": {},
   "outputs": [],
   "source": []
  },
  {
   "cell_type": "code",
   "execution_count": null,
   "id": "35a55983",
   "metadata": {},
   "outputs": [],
   "source": []
  }
 ],
 "metadata": {
  "kernelspec": {
   "display_name": "Python 3 (ipykernel)",
   "language": "python",
   "name": "python3"
  },
  "language_info": {
   "codemirror_mode": {
    "name": "ipython",
    "version": 3
   },
   "file_extension": ".py",
   "mimetype": "text/x-python",
   "name": "python",
   "nbconvert_exporter": "python",
   "pygments_lexer": "ipython3",
   "version": "3.7.16"
  }
 },
 "nbformat": 4,
 "nbformat_minor": 5
}

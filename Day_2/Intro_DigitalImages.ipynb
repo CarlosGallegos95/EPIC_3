{
  "cells": [
    {
      "cell_type": "markdown",
      "metadata": {
        "id": "iCe-kbPC3wcT"
      },
      "source": [
        "# Introduction to Digital Images"
      ]
    },
    {
      "cell_type": "markdown",
      "metadata": {
        "id": "gR6GHEQR3wcV"
      },
      "source": [
        "## 1. Images are just numerical arrays\n",
        "\n",
        "A digital image is a multi-dimensional numerical array that is formed by pixels (voxels in 3D).\n",
        "\n",
        "- Dimensions of an image : Width, heigth, depth, channels ('colors'), time\n",
        "- Each pixel/voxel has brightness or intensity (black to white) represented by a number\n"
      ]
    },
    {
      "cell_type": "markdown",
      "metadata": {
        "id": "Fr2n49fI3wcV"
      },
      "source": [
        "#### Import packages and modules\n",
        "\n"
      ]
    },
    {
      "cell_type": "code",
      "execution_count": 1,
      "metadata": {
        "id": "GfRRtnTr3wcW"
      },
      "outputs": [],
      "source": [
        "import numpy as np                 # Array manipulation package\n",
        "import matplotlib.pyplot as plt    # Plotting package\n",
        "import skimage.io as io            # Image file manipulation module\n",
        "%matplotlib inline"
      ]
    },
    {
      "cell_type": "code",
      "source": [
        "from google.colab import drive\n",
        "drive.mount('/content/drive')"
      ],
      "metadata": {
        "id": "92H3sVve4G-s"
      },
      "execution_count": null,
      "outputs": []
    },
    {
      "cell_type": "markdown",
      "metadata": {
        "id": "ExXQM6Zf3wcW"
      },
      "source": [
        "#### Read and diplay a 2D multicolor image"
      ]
    },
    {
      "cell_type": "code",
      "execution_count": null,
      "metadata": {
        "id": "6n6QGFZU3wcX"
      },
      "outputs": [],
      "source": [
        "img = io.imread('/content/drive/MyDrive/IntroBioImageAnalysis-main/2D_image_nuclei_cells_liver.tif')        # import image\n",
        "print('Image dimension: ', img.shape)\n",
        "print('Number of Channels: ', img.shape[2])\n",
        "ChannelNames = [\"Endosomes\", \"Membranes\", \"Nuclei\"]  # list with channels' names\n",
        "\n",
        "plt.figure(figsize=(16,8))\n",
        "\n",
        "ch = 0\n",
        "while ch < img.shape[2]:\n",
        "    plt.subplot(1,3,ch+1)\n",
        "    plt.title(ChannelNames[ch])\n",
        "    plt.imshow(img[:,:,ch])       # create image object and visualise\n",
        "    ch = ch +1\n"
      ]
    },
    {
      "cell_type": "markdown",
      "metadata": {
        "id": "UmwI6KQV3wcX"
      },
      "source": [
        "Let's have a closer look at one of the channels"
      ]
    },
    {
      "cell_type": "code",
      "execution_count": null,
      "metadata": {
        "id": "gsMdRBAw3wcX"
      },
      "outputs": [],
      "source": [
        "subimage = img[0:50,0:50,2]\n",
        "print('Images are just numerical arrays')\n",
        "print('Image dimension: ', subimage.shape)\n",
        "print('Data type : ', subimage.dtype) # check the data type\n",
        "plt.imshow(subimage, cmap='gray')\n",
        "plt.colorbar();"
      ]
    },
    {
      "cell_type": "markdown",
      "metadata": {
        "id": "8n30a1Rt3wcY"
      },
      "source": [
        "Let's create an image with random (integers) intensity values between 0 and 255 (8 bit-depth)"
      ]
    },
    {
      "cell_type": "code",
      "execution_count": 4,
      "metadata": {
        "id": "rL45LKzH3wcY",
        "outputId": "e88b9ad3-1454-4a06-9a01-ca52aabd5a0a",
        "colab": {
          "base_uri": "https://localhost:8080/",
          "height": 673
        }
      },
      "outputs": [
        {
          "output_type": "stream",
          "name": "stdout",
          "text": [
            "A image is just a numerical array: \n",
            " [[164 131 180 231 104  15 172  34  63   4]\n",
            " [128 107  54  96 158 204 130 191 251 108]\n",
            " [ 21 119  82 191  25 190 152 198 121  81]\n",
            " [158  87 122  81   2  54 170 116 195 155]\n",
            " [ 55 181  84  24 225  55 146  83  58 121]\n",
            " [136   2 204 181 147 197 102 229 159 182]\n",
            " [ 91  59  50  87  32   0 234  30  35  68]\n",
            " [220 238  51 116 199  74 191 140 231 113]\n",
            " [ 53 124 186   7 238 154  79 139 170 176]\n",
            " [ 71 181  65  38  74  87  45 192  17 122]]\n",
            "The image is an :  <class 'numpy.ndarray'>\n",
            "Data type :  int8\n",
            "Image with Random intensity values\n"
          ]
        },
        {
          "output_type": "display_data",
          "data": {
            "text/plain": [
              "<Figure size 640x480 with 1 Axes>"
            ],
            "image/png": "[encoded data removed]"
          },
          "metadata": {}
        }
      ],
      "source": [
        "img2=np.random.randint(0,255,[10,10]) # create random array of\n",
        "print('A image is just a numerical array: \\n', img2)\n",
        "np.savetxt('randimg.txt', img2) # save as text file\n",
        "\n",
        "dataimg = np.loadtxt(\"randimg.txt\").astype(np.int8)   # load txt file and a numpy array with data type uint8\n",
        "print('The image is an : ', type(dataimg)) # check imported data is a numpy array\n",
        "print('Data type : ',dataimg.dtype) # check the data type\n",
        "plt.imshow(dataimg, interpolation=\"none\", cmap='gray') # visualise as image, interpolation=none shows actual pixels, cmap is the choice of color map\n",
        "print('Image with Random intensity values')\n",
        "plt.show()"
      ]
    },
    {
      "cell_type": "markdown",
      "metadata": {
        "id": "WcwU9yJu3wcY"
      },
      "source": [
        "#### Variable type\n",
        "\n",
        "Python's and Numpy's standard data types include:"
      ]
    },
    {
      "cell_type": "code",
      "execution_count": null,
      "metadata": {
        "id": "U2T4ZP2N3wcZ"
      },
      "outputs": [],
      "source": [
        "# numeric (int, float, complex, boolean),\n",
        "b1 = 5.1 # float\n",
        "b2 = 5 # int\n",
        "b3 = 1<2 # boolean\n",
        "print(b1, ' is',type(b1), '\\n')\n",
        "print(b2, ' is',type(b2), '\\n')\n",
        "print(b3, ' is',type(b3), '\\n')\n",
        "\n",
        "# lists\n",
        "c = ['karin', 'sasaki', 345.453]\n",
        "print(c, ' is', type(c), '\\n')\n",
        "\n",
        "# strings\n",
        "print(c[0], ' is',type(c[0]), '\\n')\n",
        "\n",
        "# tuples\n",
        "d = (123, 'john')\n",
        "print(d, ' is', type(d), '\\n')\n",
        "\n",
        "# dictionaries\n",
        "e = {'name': 'marcie','code':63214, 'dept': 'mathematics'}\n",
        "print(e, ' is', type(e), '\\n')\n",
        "\n",
        "# Numpy array\n",
        "f = np.array([1,2,3,4,5])\n",
        "print(f, ' is', type(f), '\\n')\n",
        "\n",
        "# note this is different form the list\n",
        "h = [1,2,3,4,5]\n",
        "print(h, ' is', type(h), '\\n')"
      ]
    },
    {
      "cell_type": "markdown",
      "metadata": {
        "id": "Q72aWfHE3wcZ"
      },
      "source": [
        "## 2. Image Brightness and Bit Depth\n",
        "\n",
        "\n",
        "The brightness (or luminous brightness) of a digital image is a measure of relative intensity values across the pixel array after the image.\n",
        "\n"
      ]
    },
    {
      "cell_type": "code",
      "execution_count": null,
      "metadata": {
        "id": "zU2_2OHa3wcZ"
      },
      "outputs": [],
      "source": [
        "imgBitDepth = io.imread('/content/drive/MyDrive/IntroBioImageAnalysis-main/graylevels.jpg')\n",
        "plt.figure(figsize=(16,8))\n",
        "plt.imshow(imgBitDepth)\n",
        "plt.axis('off')\n",
        "plt.show;"
      ]
    },
    {
      "cell_type": "markdown",
      "metadata": {
        "id": "Fr82_TsD3wcZ"
      },
      "source": [
        "Check an image with different gray levels"
      ]
    },
    {
      "cell_type": "code",
      "execution_count": null,
      "metadata": {
        "id": "m4taEqTw3wcZ"
      },
      "outputs": [],
      "source": [
        "img8bit= img[:,:,1]\n",
        "\n",
        "def convert(img, target_type_min, target_type_max, target_type):\n",
        "    imin = img.min()\n",
        "    imax = img.max()\n",
        "\n",
        "    a = (target_type_max - target_type_min) / (imax - imin)\n",
        "    b = target_type_max - a * imax\n",
        "    new_img = (a * img + b).astype(target_type)\n",
        "    return new_img\n",
        "\n",
        "\n",
        "plt.figure(figsize=(16,8))\n",
        "\n",
        "plt.subplot(1,3,1)\n",
        "plt.title('8-bits \\n  256 gray levels')\n",
        "plt.imshow(img8bit, cmap='gray')\n",
        "plt.colorbar(fraction=0.046, pad=0.04)\n",
        "\n",
        "img4bit = convert(img8bit, 0, 16, np.uint8)\n",
        "plt.subplot(1,3,2)\n",
        "plt.title('4-bits \\n  16 gray levels')\n",
        "plt.imshow(img4bit, interpolation=\"none\", cmap='gray')\n",
        "plt.colorbar(fraction=0.046, pad=0.04)\n",
        "\n",
        "img2bit = convert(img8bit, 0, 4, np.uint8)\n",
        "plt.subplot(1,3,3)\n",
        "plt.title('2-bits \\n  4 gray levels')\n",
        "plt.imshow(img2bit, interpolation=\"none\", cmap='gray')\n",
        "plt.colorbar(fraction=0.046, pad=0.04)\n",
        "plt.show()"
      ]
    },
    {
      "cell_type": "markdown",
      "metadata": {
        "id": "CvIho3GO3wca"
      },
      "source": [
        "Same for an small inset"
      ]
    },
    {
      "cell_type": "code",
      "execution_count": null,
      "metadata": {
        "scrolled": true,
        "id": "UD7vAXoT3wca"
      },
      "outputs": [],
      "source": [
        "img8bit= img[0:100,0:100,1]\n",
        "\n",
        "def convert(img, target_type_min, target_type_max, target_type):\n",
        "    imin = img.min()\n",
        "    imax = img.max()\n",
        "\n",
        "    a = (target_type_max - target_type_min) / (imax - imin)\n",
        "    b = target_type_max - a * imax\n",
        "    new_img = (a * img + b).astype(target_type)\n",
        "    return new_img\n",
        "\n",
        "\n",
        "plt.figure(figsize=(16,8))\n",
        "\n",
        "plt.subplot(1,3,1)\n",
        "plt.title('8-bits \\n  256 gray levels')\n",
        "plt.imshow(img8bit, cmap='gray')\n",
        "plt.colorbar(fraction=0.046, pad=0.04)\n",
        "\n",
        "#img4bit=img8bit/16\n",
        "img4bit = convert(img8bit, 0, 16, np.uint8)\n",
        "plt.subplot(1,3,2)\n",
        "plt.title('4-bits \\n  16 gray levels')\n",
        "plt.imshow(img4bit, interpolation=\"none\", cmap='gray')\n",
        "plt.colorbar(fraction=0.046, pad=0.04)\n",
        "\n",
        "\n",
        "img2bit = convert(img8bit, 0, 4, np.uint8)\n",
        "plt.subplot(1,3,3)\n",
        "plt.title('2-bits \\n  4 gray levels')\n",
        "plt.imshow(img2bit, interpolation=\"none\", cmap='gray')\n",
        "plt.colorbar(fraction=0.046, pad=0.04)\n",
        "plt.show()"
      ]
    },
    {
      "cell_type": "markdown",
      "metadata": {
        "id": "mTjoaz9D3wca"
      },
      "source": [
        "#### Color maps and look up tables (LUT)\n",
        "\n",
        "- Lookup tables do the mapping from a numeric pixel value to a color.\n",
        "- This is the main mechanism how we visualise microscopy image data."
      ]
    },
    {
      "cell_type": "code",
      "execution_count": null,
      "metadata": {
        "id": "NtJ0dT5I3wca"
      },
      "outputs": [],
      "source": [
        "# visualise with different color map\n",
        "\n",
        "plt.figure(figsize=(16,8))\n",
        "\n",
        "plt.subplot(1,3,1)\n",
        "plt.title('Gray')\n",
        "plt.imshow(img[:,:,1],interpolation='none',cmap='gray')  # the color map is gray\n",
        "plt.colorbar(fraction=0.046, pad=0.04)\n",
        "plt.subplot(1,3,2)\n",
        "plt.title('Blue')\n",
        "plt.imshow(img[:,:,1],interpolation='none',cmap='Blues') # the color map is blues\n",
        "plt.colorbar(fraction=0.046, pad=0.04)\n",
        "plt.subplot(1,3,3)\n",
        "plt.title('Magma')\n",
        "plt.imshow(img[:,:,1],interpolation='none',cmap='magma') # the color map is blues\n",
        "plt.colorbar(fraction=0.046, pad=0.04)\n",
        "plt.show()\n"
      ]
    },
    {
      "cell_type": "markdown",
      "metadata": {
        "id": "vZ5bDG6Z3wca"
      },
      "source": [
        "## 3. Image arithmetic and unexpected errors"
      ]
    },
    {
      "cell_type": "markdown",
      "metadata": {
        "id": "seQqbVDs3wcb"
      },
      "source": [
        "#### Adding an integer valua to an 8-bits image"
      ]
    },
    {
      "cell_type": "code",
      "execution_count": null,
      "metadata": {
        "id": "cWDm2Nfg3wcb"
      },
      "outputs": [],
      "source": [
        "# Add integer value to an image\n",
        "\n",
        "dataimgAdd = dataimg+100\n",
        "\n",
        "# show results\n",
        "plt.figure(figsize=(16,8))\n",
        "plt.subplot(1,2,1)\n",
        "plt.title('Original Image')\n",
        "plt.imshow(dataimg,cmap=\"gray\", interpolation='None')\n",
        "plt.colorbar(fraction=0.046, pad=0.04)\n",
        "\n",
        "plt.subplot(1,2,2)\n",
        "plt.title('Original Image + 100')\n",
        "data_plot = plt.imshow(dataimgAdd,cmap=\"gray\", interpolation='None')\n",
        "plt.colorbar(fraction=0.046, pad=0.04)\n",
        "plt.show()\n",
        "\n",
        "\n",
        "print('Values are calculated modulo 256')\n",
        "print('\\n')\n",
        "print('Arithmetics which loops around is called modulo arithmetic')\n",
        "print('\\n')\n",
        "\n",
        "print(dataimg)\n",
        "print('\\n')\n",
        "print(dataimgAdd)\n",
        "print('\\n')\n"
      ]
    },
    {
      "cell_type": "markdown",
      "metadata": {
        "id": "8XBa7ZaT3wcb"
      },
      "source": [
        "## 4. Getting some simple statistics"
      ]
    },
    {
      "cell_type": "markdown",
      "metadata": {
        "id": "PlCA6HIR3wcb"
      },
      "source": [
        "Let's calculate some simple statistics from the image intensities"
      ]
    },
    {
      "cell_type": "markdown",
      "metadata": {
        "id": "svpucC5c3wcb"
      },
      "source": [
        "#### Import and vizualize the image"
      ]
    },
    {
      "cell_type": "code",
      "execution_count": null,
      "metadata": {
        "id": "s_D_8gcA3wcb"
      },
      "outputs": [],
      "source": [
        "img = io.imread('/content/drive/MyDrive/IntroBioImageAnalysis-main/2D_image_nuclei_cells_liver.tif')        # import image\n",
        "print('Image dimension: ', img.shape)\n",
        "print('Number of Channels: ', img.shape[2])\n",
        "print('Image type: ', img.dtype)\n",
        "ChannelNames = [\"Endosomes\", \"Membranes\", \"Nuclei\"]  # list with channels' names\n",
        "\n"
      ]
    },
    {
      "cell_type": "code",
      "execution_count": null,
      "metadata": {
        "id": "rRRUe2jc3wcb"
      },
      "outputs": [],
      "source": [
        "# plot the image channels using a defined function\n",
        "\n",
        "def myplt(img, title):\n",
        "    \"\"\"This function displays the input image with interpolation='none' and cmap='magma'. \"\"\"\n",
        "    plt.imshow(img,interpolation='none',cmap='magma')\n",
        "    plt.colorbar(fraction=0.046, pad=0.04)\n",
        "    plt.title(title)\n",
        "\n",
        ""
      ]
    },
    {
      "cell_type": "code",
      "execution_count": null,
      "metadata": {
        "id": "aLXw80Uw3wcb"
      },
      "outputs": [],
      "source": [
        "plt.figure(figsize=(16,8))\n",
        "ch = 0\n",
        "while ch < img.shape[-1]:\n",
        "    plt.subplot(1,3,ch+1)\n",
        "    myplt(img[:,:,ch], ChannelNames[ch])\n",
        "    ch = ch +1\n",
        ""
      ]
    },
    {
      "cell_type": "code",
      "execution_count": null,
      "metadata": {
        "id": "OPOLNeHV3wcc"
      },
      "outputs": [],
      "source": [
        "# Get each channel and get mean intensity values\n",
        "Endosomes = img[:,:,0]\n",
        "Membranes = img[:,:,1]\n",
        "Nuclei = img[:,:,2]\n",
        "\n",
        "mean_Endosomes = np.mean(Endosomes)\n",
        "mean_Membranes = np.mean(Membranes)\n",
        "mean_Nuclei = np.mean(Nuclei)\n",
        "\n",
        "std_Endosomes = np.std(Endosomes)\n",
        "std_Membranes = np.std(Membranes)\n",
        "std_Nuclei = np.std(Nuclei)\n"
      ]
    },
    {
      "cell_type": "code",
      "execution_count": null,
      "metadata": {
        "id": "jzJyWevc3wcc"
      },
      "outputs": [],
      "source": [
        "# store results  in a dictionary\n",
        "results = {'Structure':[], 'Mean intensity':[], 'Std intensity':[]}\n",
        "results['Structure'] = ChannelNames\n",
        "results['Mean intensity'] = [mean_Endosomes, mean_Membranes, mean_Nuclei]\n",
        "results['Std intensity'] = [std_Endosomes, std_Membranes, std_Nuclei]\n",
        "\n",
        "print(results)"
      ]
    },
    {
      "cell_type": "code",
      "execution_count": null,
      "metadata": {
        "id": "E2HNo6kb3wcc"
      },
      "outputs": [],
      "source": [
        "# save quantitative data to json file\n",
        "import json\n",
        "json.dump(results, open(\"results.txt\", 'w'))"
      ]
    }
  ],
  "metadata": {
    "kernelspec": {
      "display_name": "Python 3",
      "language": "python",
      "name": "python3"
    },
    "language_info": {
      "codemirror_mode": {
        "name": "ipython",
        "version": 3
      },
      "file_extension": ".py",
      "mimetype": "text/x-python",
      "name": "python",
      "nbconvert_exporter": "python",
      "pygments_lexer": "ipython3",
      "version": "3.8.8"
    },
    "colab": {
      "provenance": []
    }
  },
  "nbformat": 4,
  "nbformat_minor": 0
}